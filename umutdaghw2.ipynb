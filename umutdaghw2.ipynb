{
 "cells": [
  {
   "cell_type": "code",
   "execution_count": null,
   "metadata": {},
   "outputs": [
    {
     "name": "stdin",
     "output_type": "stream",
     "text": [
      "Please enter your firstname: umut\n",
      "Please enter your lastname: dağ\n",
      "Please enter your age: 28\n",
      "Please enter your dateofbirth just year: 1994\n"
     ]
    },
    {
     "name": "stdout",
     "output_type": "stream",
     "text": [
      "You can go outside :)\n"
     ]
    }
   ],
   "source": [
    "kullanıcı_listesi=[\"firstname\",\"lastname\",\"age\",\"dateofbirth\"]\n",
    "for i in kullanıcı_listesi:\n",
    "    firstname=input(\"Please enter your firstname:\")\n",
    "    lastname=input(\"Please enter your lastname:\")\n",
    "    age=int(input(\"Please enter your age:\"))\n",
    "    dateofbirth=input(\"Please enter your dateofbirth just year:\")\n",
    "    \n",
    "    if age<=18:\n",
    "        print(\"You can not go out because it is too dangerous!!\")\n",
    "    else:\n",
    "        print(\"You can go outside :)\")\n",
    "   "
   ]
  },
  {
   "cell_type": "code",
   "execution_count": null,
   "metadata": {},
   "outputs": [],
   "source": []
  }
 ],
 "metadata": {
  "kernelspec": {
   "display_name": "Python 3",
   "language": "python",
   "name": "python3"
  },
  "language_info": {
   "codemirror_mode": {
    "name": "ipython",
    "version": 3
   },
   "file_extension": ".py",
   "mimetype": "text/x-python",
   "name": "python",
   "nbconvert_exporter": "python",
   "pygments_lexer": "ipython3",
   "version": "3.9.0"
  }
 },
 "nbformat": 4,
 "nbformat_minor": 4
}
