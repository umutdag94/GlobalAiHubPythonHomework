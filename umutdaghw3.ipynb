{
 "cells": [
  {
   "cell_type": "code",
   "execution_count": 1,
   "metadata": {},
   "outputs": [
    {
     "name": "stdout",
     "output_type": "stream",
     "text": [
      "Sayı tahmin etme oyunudur.\n"
     ]
    },
    {
     "name": "stdin",
     "output_type": "stream",
     "text": [
      "kullanıcı adı giriniz: umut\n"
     ]
    },
    {
     "name": "stdout",
     "output_type": "stream",
     "text": [
      "Hoşgeldin umut\n"
     ]
    },
    {
     "name": "stdin",
     "output_type": "stream",
     "text": [
      "1 ile 99 arasında bir saygı giriniz: 5\n"
     ]
    },
    {
     "name": "stdout",
     "output_type": "stream",
     "text": [
      "Tahmin ettiğiniz sayı küçük ,  daha büyük bir sayı giriniz:\n"
     ]
    },
    {
     "name": "stdin",
     "output_type": "stream",
     "text": [
      "1 ile 99 arasında bir saygı giriniz: 90\n"
     ]
    },
    {
     "name": "stdout",
     "output_type": "stream",
     "text": [
      "Tahmin ettiğiniz sayı büyük, daha küçük bir sayı giriniz:\n"
     ]
    },
    {
     "name": "stdin",
     "output_type": "stream",
     "text": [
      "1 ile 99 arasında bir saygı giriniz: 50\n"
     ]
    },
    {
     "name": "stdout",
     "output_type": "stream",
     "text": [
      "Tahmin ettiğiniz sayı küçük ,  daha büyük bir sayı giriniz:\n"
     ]
    },
    {
     "name": "stdin",
     "output_type": "stream",
     "text": [
      "1 ile 99 arasında bir saygı giriniz: 60\n"
     ]
    },
    {
     "name": "stdout",
     "output_type": "stream",
     "text": [
      "Tahmin ettiğiniz sayı küçük ,  daha büyük bir sayı giriniz:\n"
     ]
    },
    {
     "name": "stdin",
     "output_type": "stream",
     "text": [
      "1 ile 99 arasında bir saygı giriniz: 70\n"
     ]
    },
    {
     "name": "stdout",
     "output_type": "stream",
     "text": [
      "Tahmin ettiğiniz sayı küçük ,  daha büyük bir sayı giriniz:\n"
     ]
    },
    {
     "name": "stdin",
     "output_type": "stream",
     "text": [
      "1 ile 99 arasında bir saygı giriniz: 80\n"
     ]
    },
    {
     "name": "stdout",
     "output_type": "stream",
     "text": [
      "Tahmin ettiğiniz sayı büyük, daha küçük bir sayı giriniz:\n"
     ]
    },
    {
     "name": "stdin",
     "output_type": "stream",
     "text": [
      "1 ile 99 arasında bir saygı giriniz: 76\n"
     ]
    },
    {
     "name": "stdout",
     "output_type": "stream",
     "text": [
      "Tahmin ettiğiniz sayı küçük ,  daha büyük bir sayı giriniz:\n"
     ]
    },
    {
     "name": "stdin",
     "output_type": "stream",
     "text": [
      "1 ile 99 arasında bir saygı giriniz: 78\n"
     ]
    },
    {
     "name": "stdout",
     "output_type": "stream",
     "text": [
      "Tahmin ettiğiniz sayı büyük, daha küçük bir sayı giriniz:\n"
     ]
    },
    {
     "name": "stdin",
     "output_type": "stream",
     "text": [
      "1 ile 99 arasında bir saygı giriniz: 77\n"
     ]
    },
    {
     "name": "stdout",
     "output_type": "stream",
     "text": [
      "Tahmin ettiğiniz sayı doğru . Tebrikler\n"
     ]
    }
   ],
   "source": [
    "import random\n",
    "print(\"Sayı tahmin etme oyunudur.\")\n",
    "kullanıcıadı=input(\"kullanıcı adı giriniz:\")\n",
    "print(\"Hoşgeldin {}\".format(kullanıcıadı))\n",
    "sayı=random.randint(1,100)\n",
    "tahmin=int(input(\"1 ile 99 arasında bir saygı giriniz:\"))\n",
    "while True:\n",
    "        if tahmin<sayı:\n",
    "            print(\"Tahmin ettiğiniz sayı küçük ,  daha büyük bir sayı giriniz:\")\n",
    "            tahmin=int(input(\"1 ile 99 arasında bir saygı giriniz:\"))\n",
    "        elif tahmin>sayı:\n",
    "            print(\"Tahmin ettiğiniz sayı büyük, daha küçük bir sayı giriniz:\")\n",
    "            tahmin=int(input(\"1 ile 99 arasında bir saygı giriniz:\"))\n",
    "        else:\n",
    "            print(\"Tahmin ettiğiniz sayı doğru . Tebrikler\")\n",
    "            break"
   ]
  },
  {
   "cell_type": "code",
   "execution_count": null,
   "metadata": {},
   "outputs": [],
   "source": []
  }
 ],
 "metadata": {
  "kernelspec": {
   "display_name": "Python 3",
   "language": "python",
   "name": "python3"
  },
  "language_info": {
   "codemirror_mode": {
    "name": "ipython",
    "version": 3
   },
   "file_extension": ".py",
   "mimetype": "text/x-python",
   "name": "python",
   "nbconvert_exporter": "python",
   "pygments_lexer": "ipython3",
   "version": "3.9.0"
  }
 },
 "nbformat": 4,
 "nbformat_minor": 4
}
