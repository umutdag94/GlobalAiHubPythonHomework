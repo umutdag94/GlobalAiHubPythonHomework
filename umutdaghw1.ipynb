{
 "cells": [
  {
   "cell_type": "code",
   "execution_count": 26,
   "metadata": {},
   "outputs": [
    {
     "name": "stdin",
     "output_type": "stream",
     "text": [
      "Birinci değeri giriniz: 1\n",
      "İkinci değeri giriniz: 2\n",
      "Üçüncü değeri giriniz: 3\n",
      "Dördüncü değeri giriniz: 4\n",
      "Beşinci değeri giriniz: 5\n"
     ]
    },
    {
     "name": "stdout",
     "output_type": "stream",
     "text": [
      "1.değer: 1 ,Cinsi <class 'int'> , 2. değer: 2 Cinsi <class 'int'> , 3.değer 3 Cinsi <class 'int'> , 4.değer: 4 Cinsi <class 'int'>, 5.değer 5Cinsi <class 'int'>\n"
     ]
    }
   ],
   "source": [
    "a=int(input(\"Birinci değeri giriniz:\"))\n",
    "b=int(input(\"İkinci değeri giriniz:\"))\n",
    "c=int(input(\"Üçüncü değeri giriniz:\"))\n",
    "d=int(input(\"Dördüncü değeri giriniz:\"))\n",
    "e=int(input(\"Beşinci değeri giriniz:\"))\n",
    "at=type(a)\n",
    "bt=type(b)\n",
    "ct=type(c)\n",
    "dt=type(d)\n",
    "et=type(e)\n",
    "print(\"1.değer: {} ,Cinsi {} , 2. değer: {} Cinsi {} , 3.değer {} Cinsi {} , 4.değer: {} Cinsi {}, 5.değer {}Cinsi {}\".format(a,at,b,bt,c,ct,d,dt,e,et))\n",
    "\n",
    "\n",
    "\n"
   ]
  },
  {
   "cell_type": "code",
   "execution_count": null,
   "metadata": {},
   "outputs": [],
   "source": []
  }
 ],
 "metadata": {
  "kernelspec": {
   "display_name": "Python 3",
   "language": "python",
   "name": "python3"
  },
  "language_info": {
   "codemirror_mode": {
    "name": "ipython",
    "version": 3
   },
   "file_extension": ".py",
   "mimetype": "text/x-python",
   "name": "python",
   "nbconvert_exporter": "python",
   "pygments_lexer": "ipython3",
   "version": "3.9.0"
  }
 },
 "nbformat": 4,
 "nbformat_minor": 4
}
